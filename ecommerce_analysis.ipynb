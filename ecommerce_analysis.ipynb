{
 "cells": [
  {
   "cell_type": "code",
   "execution_count": 46,
   "metadata": {},
   "outputs": [],
   "source": [
    "import pandas as pd\n",
    "import numpy as np\n",
    "import matplotlib.pyplot as plt\n",
    "import seaborn as sns\n",
    "import duckdb as db\n",
    "import plotly as ply\n",
    "import plotly.express as px\n",
    "from scipy import stats"
   ]
  },
  {
   "cell_type": "code",
   "execution_count": 47,
   "metadata": {},
   "outputs": [
    {
     "data": {
      "text/html": [
       "<div>\n",
       "<style scoped>\n",
       "    .dataframe tbody tr th:only-of-type {\n",
       "        vertical-align: middle;\n",
       "    }\n",
       "\n",
       "    .dataframe tbody tr th {\n",
       "        vertical-align: top;\n",
       "    }\n",
       "\n",
       "    .dataframe thead th {\n",
       "        text-align: right;\n",
       "    }\n",
       "</style>\n",
       "<table border=\"1\" class=\"dataframe\">\n",
       "  <thead>\n",
       "    <tr style=\"text-align: right;\">\n",
       "      <th></th>\n",
       "      <th>Order_ID</th>\n",
       "      <th>Customer_ID</th>\n",
       "      <th>Product_ID</th>\n",
       "      <th>Product_Name</th>\n",
       "      <th>Category</th>\n",
       "      <th>Price</th>\n",
       "      <th>Quantity</th>\n",
       "      <th>Order_Date</th>\n",
       "      <th>Delivery_Date</th>\n",
       "      <th>Payment_Method</th>\n",
       "    </tr>\n",
       "  </thead>\n",
       "  <tbody>\n",
       "    <tr>\n",
       "      <th>0</th>\n",
       "      <td>48ca9641-6d4c-4f39-b2e9-bf2e64eb97d8</td>\n",
       "      <td>76c18b23-a7d5-4b66-adaa-7aa143af36be</td>\n",
       "      <td>e19cbae9-8203-46ab-a8c8-5933dd0078ba</td>\n",
       "      <td>in</td>\n",
       "      <td>recognize</td>\n",
       "      <td>164.29</td>\n",
       "      <td>6.0</td>\n",
       "      <td>2020-08-26</td>\n",
       "      <td>2020-08-26</td>\n",
       "      <td>Credit Card</td>\n",
       "    </tr>\n",
       "    <tr>\n",
       "      <th>1</th>\n",
       "      <td>5ece9c62-f8d7-40eb-9a02-4ea7de0f1c6a</td>\n",
       "      <td>180f5718-28ca-4a35-adea-b74b05da3b08</td>\n",
       "      <td>932a13e1-2c6f-4f64-b644-6e9ae6cef485</td>\n",
       "      <td>list</td>\n",
       "      <td>mission</td>\n",
       "      <td>614.45</td>\n",
       "      <td>9.0</td>\n",
       "      <td>NaN</td>\n",
       "      <td>NaN</td>\n",
       "      <td>PayPal</td>\n",
       "    </tr>\n",
       "    <tr>\n",
       "      <th>2</th>\n",
       "      <td>NaN</td>\n",
       "      <td>a48c729f-374a-4a46-ae22-65d691fdcca2</td>\n",
       "      <td>896de70f-ab14-4d12-a6e0-8c3cdddd8c74</td>\n",
       "      <td>society</td>\n",
       "      <td>NaN</td>\n",
       "      <td>377.48</td>\n",
       "      <td>1.0</td>\n",
       "      <td>2020-02-21</td>\n",
       "      <td>2020-02-24</td>\n",
       "      <td>Credit Card</td>\n",
       "    </tr>\n",
       "    <tr>\n",
       "      <th>3</th>\n",
       "      <td>NaN</td>\n",
       "      <td>6a8965d2-f002-49ab-bfa3-4412e029fb5e</td>\n",
       "      <td>19fa7a20-d5e4-410f-bd51-b31899fd200e</td>\n",
       "      <td>themselves</td>\n",
       "      <td>or</td>\n",
       "      <td>NaN</td>\n",
       "      <td>1.0</td>\n",
       "      <td>2022-04-09</td>\n",
       "      <td>2022-04-13</td>\n",
       "      <td>Cash</td>\n",
       "    </tr>\n",
       "    <tr>\n",
       "      <th>4</th>\n",
       "      <td>d7493946-0d19-4c0e-a037-a985061a6f4f</td>\n",
       "      <td>0e6831fc-a7a4-41b4-b861-41f747702832</td>\n",
       "      <td>4202bb8b-63c1-4b59-8228-96a1d6a6efe2</td>\n",
       "      <td>those</td>\n",
       "      <td>marriage</td>\n",
       "      <td>NaN</td>\n",
       "      <td>1.0</td>\n",
       "      <td>2021-02-12</td>\n",
       "      <td>2021-02-21</td>\n",
       "      <td>Cash</td>\n",
       "    </tr>\n",
       "  </tbody>\n",
       "</table>\n",
       "</div>"
      ],
      "text/plain": [
       "                               Order_ID                           Customer_ID  \\\n",
       "0  48ca9641-6d4c-4f39-b2e9-bf2e64eb97d8  76c18b23-a7d5-4b66-adaa-7aa143af36be   \n",
       "1  5ece9c62-f8d7-40eb-9a02-4ea7de0f1c6a  180f5718-28ca-4a35-adea-b74b05da3b08   \n",
       "2                                   NaN  a48c729f-374a-4a46-ae22-65d691fdcca2   \n",
       "3                                   NaN  6a8965d2-f002-49ab-bfa3-4412e029fb5e   \n",
       "4  d7493946-0d19-4c0e-a037-a985061a6f4f  0e6831fc-a7a4-41b4-b861-41f747702832   \n",
       "\n",
       "                             Product_ID Product_Name   Category   Price  \\\n",
       "0  e19cbae9-8203-46ab-a8c8-5933dd0078ba           in  recognize  164.29   \n",
       "1  932a13e1-2c6f-4f64-b644-6e9ae6cef485         list    mission  614.45   \n",
       "2  896de70f-ab14-4d12-a6e0-8c3cdddd8c74      society        NaN  377.48   \n",
       "3  19fa7a20-d5e4-410f-bd51-b31899fd200e   themselves         or     NaN   \n",
       "4  4202bb8b-63c1-4b59-8228-96a1d6a6efe2        those   marriage     NaN   \n",
       "\n",
       "   Quantity  Order_Date Delivery_Date Payment_Method  \n",
       "0       6.0  2020-08-26    2020-08-26    Credit Card  \n",
       "1       9.0         NaN           NaN         PayPal  \n",
       "2       1.0  2020-02-21    2020-02-24    Credit Card  \n",
       "3       1.0  2022-04-09    2022-04-13           Cash  \n",
       "4       1.0  2021-02-12    2021-02-21           Cash  "
      ]
     },
     "execution_count": 47,
     "metadata": {},
     "output_type": "execute_result"
    }
   ],
   "source": [
    "df = pd.read_csv('ecommerce_data.csv')\n",
    "df.head()"
   ]
  },
  {
   "cell_type": "code",
   "execution_count": 48,
   "metadata": {},
   "outputs": [
    {
     "name": "stdout",
     "output_type": "stream",
     "text": [
      "<class 'pandas.core.frame.DataFrame'>\n",
      "RangeIndex: 1000 entries, 0 to 999\n",
      "Data columns (total 10 columns):\n",
      " #   Column          Non-Null Count  Dtype  \n",
      "---  ------          --------------  -----  \n",
      " 0   Order_ID        907 non-null    object \n",
      " 1   Customer_ID     922 non-null    object \n",
      " 2   Product_ID      902 non-null    object \n",
      " 3   Product_Name    903 non-null    object \n",
      " 4   Category        895 non-null    object \n",
      " 5   Price           884 non-null    float64\n",
      " 6   Quantity        909 non-null    float64\n",
      " 7   Order_Date      908 non-null    object \n",
      " 8   Delivery_Date   807 non-null    object \n",
      " 9   Payment_Method  895 non-null    object \n",
      "dtypes: float64(2), object(8)\n",
      "memory usage: 78.2+ KB\n"
     ]
    }
   ],
   "source": [
    "df.info()"
   ]
  },
  {
   "cell_type": "code",
   "execution_count": 49,
   "metadata": {},
   "outputs": [],
   "source": [
    "df['Order_Date'] = pd.to_datetime(df['Order_Date'])\n",
    "df['Delivery_Date'] = pd.to_datetime(df['Delivery_Date'])"
   ]
  },
  {
   "cell_type": "code",
   "execution_count": 50,
   "metadata": {},
   "outputs": [
    {
     "data": {
      "text/plain": [
       "Order_ID           93\n",
       "Customer_ID        78\n",
       "Product_ID         98\n",
       "Product_Name       97\n",
       "Category          105\n",
       "Price             116\n",
       "Quantity           91\n",
       "Order_Date         92\n",
       "Delivery_Date     193\n",
       "Payment_Method    105\n",
       "dtype: int64"
      ]
     },
     "execution_count": 50,
     "metadata": {},
     "output_type": "execute_result"
    }
   ],
   "source": [
    "df.isnull().sum()"
   ]
  },
  {
   "cell_type": "code",
   "execution_count": 51,
   "metadata": {},
   "outputs": [],
   "source": [
    "df.dropna(subset=['Order_ID', 'Customer_ID', 'Product_ID', 'Product_Name'], inplace=True)"
   ]
  },
  {
   "cell_type": "code",
   "execution_count": 52,
   "metadata": {},
   "outputs": [
    {
     "data": {
      "text/plain": [
       "Order_ID            0\n",
       "Customer_ID         0\n",
       "Product_ID          0\n",
       "Product_Name        0\n",
       "Category           69\n",
       "Price              75\n",
       "Quantity           64\n",
       "Order_Date         65\n",
       "Delivery_Date     126\n",
       "Payment_Method     80\n",
       "dtype: int64"
      ]
     },
     "execution_count": 52,
     "metadata": {},
     "output_type": "execute_result"
    }
   ],
   "source": [
    "df.isnull().sum()"
   ]
  },
  {
   "cell_type": "code",
   "execution_count": 53,
   "metadata": {},
   "outputs": [],
   "source": [
    "df['Category'].fillna('Unknown', inplace=True)"
   ]
  },
  {
   "cell_type": "code",
   "execution_count": 54,
   "metadata": {},
   "outputs": [],
   "source": [
    "df['Payment_Method'].fillna('Unknown', inplace=True)"
   ]
  },
  {
   "cell_type": "code",
   "execution_count": 55,
   "metadata": {},
   "outputs": [],
   "source": [
    "df['Price'].fillna(value=df['Price'].median(), inplace=True)"
   ]
  },
  {
   "cell_type": "code",
   "execution_count": 56,
   "metadata": {},
   "outputs": [],
   "source": [
    "df['Quantity'].fillna(value=df['Quantity'].median(), inplace=True)"
   ]
  },
  {
   "cell_type": "code",
   "execution_count": 57,
   "metadata": {},
   "outputs": [],
   "source": [
    "df['Order_Date'].fillna(df['Order_Date'].mode()[0], inplace=True)"
   ]
  },
  {
   "cell_type": "code",
   "execution_count": 58,
   "metadata": {},
   "outputs": [],
   "source": [
    "df['Delivery_Date'].fillna(df['Delivery_Date'].mode()[0], inplace=True)"
   ]
  },
  {
   "cell_type": "code",
   "execution_count": 59,
   "metadata": {},
   "outputs": [
    {
     "name": "stdout",
     "output_type": "stream",
     "text": [
      "<class 'pandas.core.frame.DataFrame'>\n",
      "Index: 688 entries, 0 to 999\n",
      "Data columns (total 10 columns):\n",
      " #   Column          Non-Null Count  Dtype         \n",
      "---  ------          --------------  -----         \n",
      " 0   Order_ID        688 non-null    object        \n",
      " 1   Customer_ID     688 non-null    object        \n",
      " 2   Product_ID      688 non-null    object        \n",
      " 3   Product_Name    688 non-null    object        \n",
      " 4   Category        688 non-null    object        \n",
      " 5   Price           688 non-null    float64       \n",
      " 6   Quantity        688 non-null    float64       \n",
      " 7   Order_Date      688 non-null    datetime64[ns]\n",
      " 8   Delivery_Date   688 non-null    datetime64[ns]\n",
      " 9   Payment_Method  688 non-null    object        \n",
      "dtypes: datetime64[ns](2), float64(2), object(6)\n",
      "memory usage: 59.1+ KB\n"
     ]
    }
   ],
   "source": [
    "df.info()"
   ]
  },
  {
   "cell_type": "code",
   "execution_count": 60,
   "metadata": {},
   "outputs": [
    {
     "data": {
      "text/plain": [
       "526.5851744186047"
      ]
     },
     "execution_count": 60,
     "metadata": {},
     "output_type": "execute_result"
    }
   ],
   "source": [
    "# Rata-rata harga produk yang terjual\n",
    "average_price = df['Price'].mean()\n",
    "average_price"
   ]
  },
  {
   "cell_type": "code",
   "execution_count": 61,
   "metadata": {},
   "outputs": [
    {
     "name": "stdout",
     "output_type": "stream",
     "text": [
      "Produk terjual dengan jumlah tertinggi: situation dengan jumlah: 26.0\n"
     ]
    }
   ],
   "source": [
    "product_sales = df.groupby('Product_Name')['Quantity'].sum()\n",
    "highest_selling_product = product_sales.idxmax()\n",
    "highest_selling_quantity = product_sales.max()\n",
    "print(\"Produk terjual dengan jumlah tertinggi:\", highest_selling_product, \"dengan jumlah:\", highest_selling_quantity)"
   ]
  },
  {
   "cell_type": "code",
   "execution_count": 62,
   "metadata": {},
   "outputs": [
    {
     "data": {
      "image/png": "[encoded data removed]",
      "text/plain": [
       "<Figure size 640x480 with 1 Axes>"
      ]
     },
     "metadata": {},
     "output_type": "display_data"
    }
   ],
   "source": [
    "product_sales.nlargest(5).plot(kind='bar')\n",
    "plt.title('Top 5 Highest Selling Product')\n",
    "plt.xlabel('Product Name')\n",
    "plt.ylabel('Quantity')\n",
    "plt.tight_layout()\n",
    "plt.show()"
   ]
  },
  {
   "cell_type": "code",
   "execution_count": 63,
   "metadata": {},
   "outputs": [
    {
     "name": "stdout",
     "output_type": "stream",
     "text": [
      "Kategori produk dengan rata-rata harga tertinggi: moment dengan rata-rata: 992.76\n"
     ]
    }
   ],
   "source": [
    "category_avg_price = df.groupby('Category')['Price'].mean()\n",
    "highest_avg_category = category_avg_price.idxmax()\n",
    "highest_avg_price = category_avg_price.max()\n",
    "print(\"Kategori produk dengan rata-rata harga tertinggi:\", highest_avg_category, \"dengan rata-rata:\", highest_avg_price)"
   ]
  },
  {
   "cell_type": "code",
   "execution_count": 64,
   "metadata": {},
   "outputs": [],
   "source": [
    "top5_category = category_avg_price.nlargest(5)"
   ]
  },
  {
   "cell_type": "code",
   "execution_count": 65,
   "metadata": {},
   "outputs": [
    {
     "data": {
      "application/vnd.plotly.v1+json": {
       "config": {
        "plotlyServerURL": "https://plot.ly"
       },
       "data": [
        {
         "alignmentgroup": "True",
         "hovertemplate": "Kategori=%{x}<br>Rata-rata harga=%{y}<br>color=%{marker.color}<extra></extra>",
         "legendgroup": "",
         "marker": {
          "color": [
           992.76,
           992.4,
           985.08,
           982.65,
           980.43
          ],
          "coloraxis": "coloraxis",
          "pattern": {
           "shape": ""
          }
         },
         "name": "",
         "offsetgroup": "",
         "orientation": "v",
         "showlegend": false,
         "text": [
          992.76,
          992.4,
          985.08,
          982.65,
          980.43
         ],
         "textposition": "outside",
         "type": "bar",
         "x": [
          "moment",
          "natural",
          "create",
          "long",
          "increase"
         ],
         "xaxis": "x",
         "y": [
          992.76,
          992.4,
          985.08,
          982.65,
          980.43
         ],
         "yaxis": "y"
        }
       ],
       "layout": {
        "barmode": "relative",
        "coloraxis": {
         "colorbar": {
          "title": {
           "text": "color"
          }
         },
         "colorscale": [
          [
           0,
           "#0d0887"
          ],
          [
           0.1111111111111111,
           "#46039f"
          ],
          [
           0.2222222222222222,
           "#7201a8"
          ],
          [
           0.3333333333333333,
           "#9c179e"
          ],
          [
           0.4444444444444444,
           "#bd3786"
          ],
          [
           0.5555555555555556,
           "#d8576b"
          ],
          [
           0.6666666666666666,
           "#ed7953"
          ],
          [
           0.7777777777777778,
           "#fb9f3a"
          ],
          [
           0.8888888888888888,
           "#fdca26"
          ],
          [
           1,
           "#f0f921"
          ]
         ]
        },
        "legend": {
         "tracegroupgap": 0
        },
        "margin": {
         "t": 60
        },
        "template": {
         "data": {
          "bar": [
           {
            "error_x": {
             "color": "#2a3f5f"
            },
            "error_y": {
             "color": "#2a3f5f"
            },
            "marker": {
             "line": {
              "color": "#E5ECF6",
              "width": 0.5
             },
             "pattern": {
              "fillmode": "overlay",
              "size": 10,
              "solidity": 0.2
             }
            },
            "type": "bar"
           }
          ],
          "barpolar": [
           {
            "marker": {
             "line": {
              "color": "#E5ECF6",
              "width": 0.5
             },
             "pattern": {
              "fillmode": "overlay",
              "size": 10,
              "solidity": 0.2
             }
            },
            "type": "barpolar"
           }
          ],
          "carpet": [
           {
            "aaxis": {
             "endlinecolor": "#2a3f5f",
             "gridcolor": "white",
             "linecolor": "white",
             "minorgridcolor": "white",
             "startlinecolor": "#2a3f5f"
            },
            "baxis": {
             "endlinecolor": "#2a3f5f",
             "gridcolor": "white",
             "linecolor": "white",
             "minorgridcolor": "white",
             "startlinecolor": "#2a3f5f"
            },
            "type": "carpet"
           }
          ],
          "choropleth": [
           {
            "colorbar": {
             "outlinewidth": 0,
             "ticks": ""
            },
            "type": "choropleth"
           }
          ],
          "contour": [
           {
            "colorbar": {
             "outlinewidth": 0,
             "ticks": ""
            },
            "colorscale": [
             [
              0,
              "#0d0887"
             ],
             [
              0.1111111111111111,
              "#46039f"
             ],
             [
              0.2222222222222222,
              "#7201a8"
             ],
             [
              0.3333333333333333,
              "#9c179e"
             ],
             [
              0.4444444444444444,
              "#bd3786"
             ],
             [
              0.5555555555555556,
              "#d8576b"
             ],
             [
              0.6666666666666666,
              "#ed7953"
             ],
             [
              0.7777777777777778,
              "#fb9f3a"
             ],
             [
              0.8888888888888888,
              "#fdca26"
             ],
             [
              1,
              "#f0f921"
             ]
            ],
            "type": "contour"
           }
          ],
          "contourcarpet": [
           {
            "colorbar": {
             "outlinewidth": 0,
             "ticks": ""
            },
            "type": "contourcarpet"
           }
          ],
          "heatmap": [
           {
            "colorbar": {
             "outlinewidth": 0,
             "ticks": ""
            },
            "colorscale": [
             [
              0,
              "#0d0887"
             ],
             [
              0.1111111111111111,
              "#46039f"
             ],
             [
              0.2222222222222222,
              "#7201a8"
             ],
             [
              0.3333333333333333,
              "#9c179e"
             ],
             [
              0.4444444444444444,
              "#bd3786"
             ],
             [
              0.5555555555555556,
              "#d8576b"
             ],
             [
              0.6666666666666666,
              "#ed7953"
             ],
             [
              0.7777777777777778,
              "#fb9f3a"
             ],
             [
              0.8888888888888888,
              "#fdca26"
             ],
             [
              1,
              "#f0f921"
             ]
            ],
            "type": "heatmap"
           }
          ],
          "heatmapgl": [
           {
            "colorbar": {
             "outlinewidth": 0,
             "ticks": ""
            },
            "colorscale": [
             [
              0,
              "#0d0887"
             ],
             [
              0.1111111111111111,
              "#46039f"
             ],
             [
              0.2222222222222222,
              "#7201a8"
             ],
             [
              0.3333333333333333,
              "#9c179e"
             ],
             [
              0.4444444444444444,
              "#bd3786"
             ],
             [
              0.5555555555555556,
              "#d8576b"
             ],
             [
              0.6666666666666666,
              "#ed7953"
             ],
             [
              0.7777777777777778,
              "#fb9f3a"
             ],
             [
              0.8888888888888888,
              "#fdca26"
             ],
             [
              1,
              "#f0f921"
             ]
            ],
            "type": "heatmapgl"
           }
          ],
          "histogram": [
           {
            "marker": {
             "pattern": {
              "fillmode": "overlay",
              "size": 10,
              "solidity": 0.2
             }
            },
            "type": "histogram"
           }
          ],
          "histogram2d": [
           {
            "colorbar": {
             "outlinewidth": 0,
             "ticks": ""
            },
            "colorscale": [
             [
              0,
              "#0d0887"
             ],
             [
              0.1111111111111111,
              "#46039f"
             ],
             [
              0.2222222222222222,
              "#7201a8"
             ],
             [
              0.3333333333333333,
              "#9c179e"
             ],
             [
              0.4444444444444444,
              "#bd3786"
             ],
             [
              0.5555555555555556,
              "#d8576b"
             ],
             [
              0.6666666666666666,
              "#ed7953"
             ],
             [
              0.7777777777777778,
              "#fb9f3a"
             ],
             [
              0.8888888888888888,
              "#fdca26"
             ],
             [
              1,
              "#f0f921"
             ]
            ],
            "type": "histogram2d"
           }
          ],
          "histogram2dcontour": [
           {
            "colorbar": {
             "outlinewidth": 0,
             "ticks": ""
            },
            "colorscale": [
             [
              0,
              "#0d0887"
             ],
             [
              0.1111111111111111,
              "#46039f"
             ],
             [
              0.2222222222222222,
              "#7201a8"
             ],
             [
              0.3333333333333333,
              "#9c179e"
             ],
             [
              0.4444444444444444,
              "#bd3786"
             ],
             [
              0.5555555555555556,
              "#d8576b"
             ],
             [
              0.6666666666666666,
              "#ed7953"
             ],
             [
              0.7777777777777778,
              "#fb9f3a"
             ],
             [
              0.8888888888888888,
              "#fdca26"
             ],
             [
              1,
              "#f0f921"
             ]
            ],
            "type": "histogram2dcontour"
           }
          ],
          "mesh3d": [
           {
            "colorbar": {
             "outlinewidth": 0,
             "ticks": ""
            },
            "type": "mesh3d"
           }
          ],
          "parcoords": [
           {
            "line": {
             "colorbar": {
              "outlinewidth": 0,
              "ticks": ""
             }
            },
            "type": "parcoords"
           }
          ],
          "pie": [
           {
            "automargin": true,
            "type": "pie"
           }
          ],
          "scatter": [
           {
            "fillpattern": {
             "fillmode": "overlay",
             "size": 10,
             "solidity": 0.2
            },
            "type": "scatter"
           }
          ],
          "scatter3d": [
           {
            "line": {
             "colorbar": {
              "outlinewidth": 0,
              "ticks": ""
             }
            },
            "marker": {
             "colorbar": {
              "outlinewidth": 0,
              "ticks": ""
             }
            },
            "type": "scatter3d"
           }
          ],
          "scattercarpet": [
           {
            "marker": {
             "colorbar": {
              "outlinewidth": 0,
              "ticks": ""
             }
            },
            "type": "scattercarpet"
           }
          ],
          "scattergeo": [
           {
            "marker": {
             "colorbar": {
              "outlinewidth": 0,
              "ticks": ""
             }
            },
            "type": "scattergeo"
           }
          ],
          "scattergl": [
           {
            "marker": {
             "colorbar": {
              "outlinewidth": 0,
              "ticks": ""
             }
            },
            "type": "scattergl"
           }
          ],
          "scattermapbox": [
           {
            "marker": {
             "colorbar": {
              "outlinewidth": 0,
              "ticks": ""
             }
            },
            "type": "scattermapbox"
           }
          ],
          "scatterpolar": [
           {
            "marker": {
             "colorbar": {
              "outlinewidth": 0,
              "ticks": ""
             }
            },
            "type": "scatterpolar"
           }
          ],
          "scatterpolargl": [
           {
            "marker": {
             "colorbar": {
              "outlinewidth": 0,
              "ticks": ""
             }
            },
            "type": "scatterpolargl"
           }
          ],
          "scatterternary": [
           {
            "marker": {
             "colorbar": {
              "outlinewidth": 0,
              "ticks": ""
             }
            },
            "type": "scatterternary"
           }
          ],
          "surface": [
           {
            "colorbar": {
             "outlinewidth": 0,
             "ticks": ""
            },
            "colorscale": [
             [
              0,
              "#0d0887"
             ],
             [
              0.1111111111111111,
              "#46039f"
             ],
             [
              0.2222222222222222,
              "#7201a8"
             ],
             [
              0.3333333333333333,
              "#9c179e"
             ],
             [
              0.4444444444444444,
              "#bd3786"
             ],
             [
              0.5555555555555556,
              "#d8576b"
             ],
             [
              0.6666666666666666,
              "#ed7953"
             ],
             [
              0.7777777777777778,
              "#fb9f3a"
             ],
             [
              0.8888888888888888,
              "#fdca26"
             ],
             [
              1,
              "#f0f921"
             ]
            ],
            "type": "surface"
           }
          ],
          "table": [
           {
            "cells": {
             "fill": {
              "color": "#EBF0F8"
             },
             "line": {
              "color": "white"
             }
            },
            "header": {
             "fill": {
              "color": "#C8D4E3"
             },
             "line": {
              "color": "white"
             }
            },
            "type": "table"
           }
          ]
         },
         "layout": {
          "annotationdefaults": {
           "arrowcolor": "#2a3f5f",
           "arrowhead": 0,
           "arrowwidth": 1
          },
          "autotypenumbers": "strict",
          "coloraxis": {
           "colorbar": {
            "outlinewidth": 0,
            "ticks": ""
           }
          },
          "colorscale": {
           "diverging": [
            [
             0,
             "#8e0152"
            ],
            [
             0.1,
             "#c51b7d"
            ],
            [
             0.2,
             "#de77ae"
            ],
            [
             0.3,
             "#f1b6da"
            ],
            [
             0.4,
             "#fde0ef"
            ],
            [
             0.5,
             "#f7f7f7"
            ],
            [
             0.6,
             "#e6f5d0"
            ],
            [
             0.7,
             "#b8e186"
            ],
            [
             0.8,
             "#7fbc41"
            ],
            [
             0.9,
             "#4d9221"
            ],
            [
             1,
             "#276419"
            ]
           ],
           "sequential": [
            [
             0,
             "#0d0887"
            ],
            [
             0.1111111111111111,
             "#46039f"
            ],
            [
             0.2222222222222222,
             "#7201a8"
            ],
            [
             0.3333333333333333,
             "#9c179e"
            ],
            [
             0.4444444444444444,
             "#bd3786"
            ],
            [
             0.5555555555555556,
             "#d8576b"
            ],
            [
             0.6666666666666666,
             "#ed7953"
            ],
            [
             0.7777777777777778,
             "#fb9f3a"
            ],
            [
             0.8888888888888888,
             "#fdca26"
            ],
            [
             1,
             "#f0f921"
            ]
           ],
           "sequentialminus": [
            [
             0,
             "#0d0887"
            ],
            [
             0.1111111111111111,
             "#46039f"
            ],
            [
             0.2222222222222222,
             "#7201a8"
            ],
            [
             0.3333333333333333,
             "#9c179e"
            ],
            [
             0.4444444444444444,
             "#bd3786"
            ],
            [
             0.5555555555555556,
             "#d8576b"
            ],
            [
             0.6666666666666666,
             "#ed7953"
            ],
            [
             0.7777777777777778,
             "#fb9f3a"
            ],
            [
             0.8888888888888888,
             "#fdca26"
            ],
            [
             1,
             "#f0f921"
            ]
           ]
          },
          "colorway": [
           "#636efa",
           "#EF553B",
           "#00cc96",
           "#ab63fa",
           "#FFA15A",
           "#19d3f3",
           "#FF6692",
           "#B6E880",
           "#FF97FF",
           "#FECB52"
          ],
          "font": {
           "color": "#2a3f5f"
          },
          "geo": {
           "bgcolor": "white",
           "lakecolor": "white",
           "landcolor": "#E5ECF6",
           "showlakes": true,
           "showland": true,
           "subunitcolor": "white"
          },
          "hoverlabel": {
           "align": "left"
          },
          "hovermode": "closest",
          "mapbox": {
           "style": "light"
          },
          "paper_bgcolor": "white",
          "plot_bgcolor": "#E5ECF6",
          "polar": {
           "angularaxis": {
            "gridcolor": "white",
            "linecolor": "white",
            "ticks": ""
           },
           "bgcolor": "#E5ECF6",
           "radialaxis": {
            "gridcolor": "white",
            "linecolor": "white",
            "ticks": ""
           }
          },
          "scene": {
           "xaxis": {
            "backgroundcolor": "#E5ECF6",
            "gridcolor": "white",
            "gridwidth": 2,
            "linecolor": "white",
            "showbackground": true,
            "ticks": "",
            "zerolinecolor": "white"
           },
           "yaxis": {
            "backgroundcolor": "#E5ECF6",
            "gridcolor": "white",
            "gridwidth": 2,
            "linecolor": "white",
            "showbackground": true,
            "ticks": "",
            "zerolinecolor": "white"
           },
           "zaxis": {
            "backgroundcolor": "#E5ECF6",
            "gridcolor": "white",
            "gridwidth": 2,
            "linecolor": "white",
            "showbackground": true,
            "ticks": "",
            "zerolinecolor": "white"
           }
          },
          "shapedefaults": {
           "line": {
            "color": "#2a3f5f"
           }
          },
          "ternary": {
           "aaxis": {
            "gridcolor": "white",
            "linecolor": "white",
            "ticks": ""
           },
           "baxis": {
            "gridcolor": "white",
            "linecolor": "white",
            "ticks": ""
           },
           "bgcolor": "#E5ECF6",
           "caxis": {
            "gridcolor": "white",
            "linecolor": "white",
            "ticks": ""
           }
          },
          "title": {
           "x": 0.05
          },
          "xaxis": {
           "automargin": true,
           "gridcolor": "white",
           "linecolor": "white",
           "ticks": "",
           "title": {
            "standoff": 15
           },
           "zerolinecolor": "white",
           "zerolinewidth": 2
          },
          "yaxis": {
           "automargin": true,
           "gridcolor": "white",
           "linecolor": "white",
           "ticks": "",
           "title": {
            "standoff": 15
           },
           "zerolinecolor": "white",
           "zerolinewidth": 2
          }
         }
        },
        "title": {
         "text": "Top 5 Kategori Produk dengan Rata-rata Harga Tertinggi"
        },
        "xaxis": {
         "anchor": "y",
         "domain": [
          0,
          1
         ],
         "title": {
          "text": "Kategori"
         }
        },
        "yaxis": {
         "anchor": "x",
         "domain": [
          0,
          1
         ],
         "title": {
          "text": "Rata-rata harga"
         }
        }
       }
      }
     },
     "metadata": {},
     "output_type": "display_data"
    }
   ],
   "source": [
    "fig = px.bar(x=top5_category.index, y=top5_category.values, color=top5_category.values,\n",
    "             labels={'x': 'Kategori', 'y': 'Rata-rata harga'})\n",
    "fig.update_traces(text=top5_category.values, textposition='outside')\n",
    "fig.update_layout(title='Top 5 Kategori Produk dengan Rata-rata Harga Tertinggi')\n",
    "fig.show()"
   ]
  },
  {
   "cell_type": "code",
   "execution_count": 66,
   "metadata": {},
   "outputs": [
    {
     "data": {
      "text/plain": [
       "Month\n",
       "January       62\n",
       "February      48\n",
       "March         56\n",
       "April         49\n",
       "May           48\n",
       "June         127\n",
       "July          50\n",
       "August        51\n",
       "September     38\n",
       "October       58\n",
       "November      57\n",
       "December      44\n",
       "Name: Order_ID, dtype: int64"
      ]
     },
     "execution_count": 66,
     "metadata": {},
     "output_type": "execute_result"
    }
   ],
   "source": [
    "# Tren penjualan dari bulan ke bulan\n",
    "df['Month'] = df['Order_Date'].dt.month_name()\n",
    "monthly_sales = df.groupby('Month')['Order_ID'].count()\n",
    "month_order = [\"January\", \"February\", \"March\", \"April\", \"May\", \"June\", \n",
    "               \"July\", \"August\", \"September\", \"October\", \"November\", \"December\"]\n",
    "monthly_sales_ordered = monthly_sales.reindex(month_order)\n",
    "monthly_sales_ordered"
   ]
  },
  {
   "cell_type": "code",
   "execution_count": 67,
   "metadata": {},
   "outputs": [
    {
     "data": {
      "image/png": "[encoded data removed]",
      "text/plain": [
       "<Figure size 1200x600 with 1 Axes>"
      ]
     },
     "metadata": {},
     "output_type": "display_data"
    }
   ],
   "source": [
    "plt.figure(figsize=(12, 6))  \n",
    "sns.lineplot(x=monthly_sales_ordered.index, y=monthly_sales_ordered.values, marker='o')  \n",
    "plt.title(\"Tren Penjualan Bulanan\")\n",
    "plt.xlabel(\"Bulan\")\n",
    "plt.ylabel(\"Total Penjualan\")\n",
    "plt.show()"
   ]
  },
  {
   "cell_type": "code",
   "execution_count": 68,
   "metadata": {},
   "outputs": [
    {
     "data": {
      "text/plain": [
       "Day_of_Week\n",
       "Sunday       101\n",
       "Monday       102\n",
       "Tuesday      144\n",
       "Wednesday     86\n",
       "Thursday      87\n",
       "Friday        95\n",
       "Saturday      73\n",
       "Name: Order_ID, dtype: int64"
      ]
     },
     "execution_count": 68,
     "metadata": {},
     "output_type": "execute_result"
    }
   ],
   "source": [
    "# Pola penjualan pada hari-hari tertentu dalam seminggu\n",
    "df['Day_of_Week'] = df['Order_Date'].dt.day_name()\n",
    "weekly_sales = df.groupby('Day_of_Week')['Order_ID'].count()\n",
    "weekday_order = [\"Sunday\", \"Monday\", \"Tuesday\", \"Wednesday\", \"Thursday\", \"Friday\", \"Saturday\"]\n",
    "weekly_sales_ordered = weekly_sales.reindex(weekday_order)\n",
    "weekly_sales_ordered"
   ]
  },
  {
   "cell_type": "code",
   "execution_count": 69,
   "metadata": {},
   "outputs": [
    {
     "data": {
      "image/png": "[encoded data removed]",
      "text/plain": [
       "<Figure size 640x480 with 1 Axes>"
      ]
     },
     "metadata": {},
     "output_type": "display_data"
    }
   ],
   "source": [
    "weekly_sales_ordered.plot(kind='bar', title='Jumlah Pesanan per Hari dalam Seminggu')\n",
    "plt.xlabel('Hari dalam Seminggu')\n",
    "plt.ylabel('Jumlah Pesanan')\n",
    "plt.show()"
   ]
  },
  {
   "cell_type": "markdown",
   "metadata": {},
   "source": [
    "Dari data jumlah pesanan berdasarkan hari dalam seminggu, kita melihat bahwa hari dengan pesanan terbanyak adalah Selasa. Hal ini menunjukkan bahwa aktivitas bisnis cenderung meningkat pada awal minggu kerja. Sebaliknya, hari dengan pesanan terendah adalah Sabtu, mengindikasikan akhir pekan mungkin lebih tenang. Aktivitas bisnis yang tinggi pada hari Selasa bisa memerlukan tambahan staf atau persediaan, sementara penurunan pada Sabtu mungkin bisa diatasi dengan promosi khusus untuk mendorong lebih banyak penjualan. Pola ini juga menunjukkan bahwa Senin dan Minggu memiliki tingkat pesanan yang cukup tinggi, mungkin karena konsumen yang memulai minggu kerja atau berbelanja sebelum akhir pekan berakhir. Dengan memahami tren ini, bisnis dapat mengoptimalkan sumber daya dan strategi pemasaran sesuai kebutuhan."
   ]
  },
  {
   "cell_type": "code",
   "execution_count": 70,
   "metadata": {},
   "outputs": [
    {
     "data": {
      "image/png": "[encoded data removed]",
      "text/plain": [
       "<Figure size 640x480 with 1 Axes>"
      ]
     },
     "metadata": {},
     "output_type": "display_data"
    }
   ],
   "source": [
    "# Distribusi jumlah pembelian per pelanggan\n",
    "customer_purchase = df.groupby('Customer_ID')['Order_ID'].count()\n",
    "plt.hist(customer_purchase)\n",
    "plt.xlabel(\"Jumlah Pembelian per Pelanggan\")\n",
    "plt.ylabel(\"Jumlah Pelanggan\")\n",
    "plt.title(\"Distribusi Jumlah Pembelian per Pelanggan\")\n",
    "plt.show()"
   ]
  },
  {
   "cell_type": "code",
   "execution_count": 71,
   "metadata": {},
   "outputs": [
    {
     "data": {
      "text/plain": [
       "count    688.0\n",
       "mean       1.0\n",
       "std        0.0\n",
       "min        1.0\n",
       "25%        1.0\n",
       "50%        1.0\n",
       "75%        1.0\n",
       "max        1.0\n",
       "Name: Order_ID, dtype: float64"
      ]
     },
     "execution_count": 71,
     "metadata": {},
     "output_type": "execute_result"
    }
   ],
   "source": [
    "customer_purchase.describe()"
   ]
  },
  {
   "cell_type": "markdown",
   "metadata": {},
   "source": [
    "Berdasarkan distribusi jumlah pembelian per pelanggan dapat disimpulkan bahwa setiap pelanggan hanya memiliki satu pesanan, tanpa variasi. Dengan 688 pelanggan, rata-rata pembelian adalah 1, dengan standar deviasi, median, serta nilai minimum dan maksimum juga menunjukkan angka 1. Hal ini mengindikasikan bahwa pelanggan hanya melakukan satu pembelian, dan tidak ada pelanggan yang melakukan pembelian lebih dari satu kali. Situasi ini dapat menunjukkan kurangnya loyalitas pelanggan yang mengakibatkan rendahnya pembelian berulang. Perlu adanya strategi baru seperti program loyalitas, promosi khusus, atau pendekatan pemasaran untuk mendorong pelanggan kembali. Peluang ini dapat dimanfaatkan untuk meningkatkan frekuensi pembelian dan pada akhirnya akan meningkatkan pendapatan bisnis. "
   ]
  },
  {
   "cell_type": "code",
   "execution_count": 72,
   "metadata": {},
   "outputs": [
    {
     "data": {
      "text/plain": [
       "Payment_Method\n",
       "Cash           211\n",
       "Credit Card    209\n",
       "PayPal         188\n",
       "Unknown         80\n",
       "Name: count, dtype: int64"
      ]
     },
     "execution_count": 72,
     "metadata": {},
     "output_type": "execute_result"
    }
   ],
   "source": [
    "# Metode pembayaran yang paling sering digunakan\n",
    "payment_method_count = df['Payment_Method'].value_counts()\n",
    "payment_method_count"
   ]
  },
  {
   "cell_type": "code",
   "execution_count": 73,
   "metadata": {},
   "outputs": [
    {
     "data": {
      "image/png": "[encoded data removed]",
      "text/plain": [
       "<Figure size 640x480 with 1 Axes>"
      ]
     },
     "metadata": {},
     "output_type": "display_data"
    }
   ],
   "source": [
    "plt.pie(payment_method_count, labels=payment_method_count.index, autopct='%.2f%%')\n",
    "plt.title(\"Distribusi Metode Pembayaran\")\n",
    "plt.show()"
   ]
  },
  {
   "cell_type": "code",
   "execution_count": 74,
   "metadata": {},
   "outputs": [
    {
     "data": {
      "text/plain": [
       "Payment_Method\n",
       "Cash           2800.142417\n",
       "Credit Card    3029.554545\n",
       "PayPal         2583.064521\n",
       "Unknown        2503.627750\n",
       "Name: Total_Purchase, dtype: float64"
      ]
     },
     "execution_count": 74,
     "metadata": {},
     "output_type": "execute_result"
    }
   ],
   "source": [
    "# Korelasi antara metode pembayaran dan total belanja\n",
    "df['Total_Purchase'] = df['Price'] * df['Quantity']\n",
    "payment_total_spent = df.groupby('Payment_Method')['Total_Purchase'].mean()\n",
    "payment_total_spent"
   ]
  },
  {
   "cell_type": "code",
   "execution_count": 75,
   "metadata": {},
   "outputs": [
    {
     "data": {
      "image/png": "[encoded data removed]",
      "text/plain": [
       "<Figure size 640x480 with 1 Axes>"
      ]
     },
     "metadata": {},
     "output_type": "display_data"
    }
   ],
   "source": [
    "sns.boxplot(x='Payment_Method', y='Total_Purchase', data=df)\n",
    "plt.xlabel('Metode Pembayaran')\n",
    "plt.ylabel('Total Belanja')\n",
    "plt.title('Distribusi Total Belanja berdasarkan Metode Pembayaran')\n",
    "plt.show()"
   ]
  },
  {
   "cell_type": "code",
   "execution_count": 76,
   "metadata": {},
   "outputs": [
    {
     "name": "stdout",
     "output_type": "stream",
     "text": [
      "Hasil uji ANOVA: F_onewayResult(statistic=1.8699072699130908, pvalue=0.13330049713018136)\n"
     ]
    }
   ],
   "source": [
    "# Uji ANOVA untuk melihat apakah perbedaan rata-rata total belanja signifikan\n",
    "anova_result = stats.f_oneway(\n",
    "    df[df['Payment_Method'] == 'Credit Card']['Total_Purchase'],\n",
    "    df[df['Payment_Method'] == 'PayPal']['Total_Purchase'],\n",
    "    df[df['Payment_Method'] == 'Cash']['Total_Purchase'],\n",
    "    df[df['Payment_Method'] == 'Unknown']['Total_Purchase']\n",
    ")\n",
    "\n",
    "print(\"Hasil uji ANOVA:\", anova_result)"
   ]
  },
  {
   "cell_type": "markdown",
   "metadata": {},
   "source": [
    "Hasil uji ANOVA yang menunjukkan nilai statistik 1.870902473137526 dan nilai p-value 0.13312983550665913 memberikan wawasan tentang apakah ada perbedaan signifikan dalam rata-rata total belanja berdasarkan metode pembayaran yang berbeda.\n",
    "\n",
    "Nilai Statistik: Nilai statistik ANOVA menunjukkan sejauh mana variasi dalam data dapat dijelaskan oleh perbedaan antara kelompok (dalam hal ini, metode pembayaran). Nilai yang lebih tinggi biasanya menunjukkan perbedaan yang lebih signifikan antara kelompok.\n",
    "\n",
    "P-Value: P-value adalah indikator penting dalam uji statistik. Ini mengukur probabilitas bahwa hasil yang diamati terjadi secara acak jika asumsi dasar bahwa tidak ada perbedaan (hipotesis nol) benar. Semakin rendah p-value, semakin kecil kemungkinan hasil yang diamati adalah karena kebetulan."
   ]
  },
  {
   "cell_type": "markdown",
   "metadata": {},
   "source": [
    "P-Value > 0.05: Dalam analisis statistik, batas p-value yang umum digunakan adalah 0.05. Jika p-value lebih besar dari 0.05, seperti dalam hasil di atas (0.13312983550665913), ini menunjukkan bahwa perbedaan rata-rata total belanja antara metode pembayaran tidak signifikan secara statistik. Artinya, kita tidak memiliki cukup bukti untuk menolak hipotesis nol, yang menyatakan bahwa tidak ada perbedaan rata-rata total belanja antara metode pembayaran yang berbeda.\n",
    "\n",
    "Kesimpulan: Karena p-value lebih besar dari 0.05, kita tidak dapat menyimpulkan bahwa ada korelasi yang signifikan antara metode pembayaran dan total belanja. Hasil ini menunjukkan bahwa variasi rata-rata total belanja di antara metode pembayaran mungkin disebabkan oleh faktor acak atau variasi alami, dan bukan karena efek yang signifikan dari metode pembayaran."
   ]
  },
  {
   "cell_type": "code",
   "execution_count": 77,
   "metadata": {},
   "outputs": [],
   "source": [
    "# Menentukan batas waktu pengiriman (misalnya, 3 hari setelah dipesan)\n",
    "deadline = df['Order_Date'] + pd.Timedelta(days=3)"
   ]
  },
  {
   "cell_type": "code",
   "execution_count": 78,
   "metadata": {},
   "outputs": [],
   "source": [
    "df['Late'] = df['Delivery_Date'] > deadline #kolom untuk menunjukkan apakah pesanan terlambat"
   ]
  },
  {
   "cell_type": "code",
   "execution_count": 79,
   "metadata": {},
   "outputs": [
    {
     "name": "stdout",
     "output_type": "stream",
     "text": [
      "Persentase pesanan yang terlambat: 60.76%\n"
     ]
    }
   ],
   "source": [
    "late_count = df['Late'].sum()\n",
    "total_orders = df.shape[0]\n",
    "late_percentage = (late_count / total_orders) * 100\n",
    "print(f\"Persentase pesanan yang terlambat: {late_percentage:.2f}%\")\n"
   ]
  },
  {
   "cell_type": "code",
   "execution_count": 80,
   "metadata": {},
   "outputs": [
    {
     "name": "stdout",
     "output_type": "stream",
     "text": [
      "Persentase keterlambatan berdasarkan kategori produk:\n",
      "Category\n",
      "American      100.00%\n",
      "Congress      100.00%\n",
      "PM            100.00%\n",
      "Republican      0.00%\n",
      "TV            100.00%\n",
      "               ...   \n",
      "year            0.00%\n",
      "yes            66.67%\n",
      "yet            50.00%\n",
      "you            50.00%\n",
      "your          100.00%\n",
      "Name: Late, Length: 453, dtype: object\n"
     ]
    }
   ],
   "source": [
    "late_by_category = df.groupby('Category')['Late'].mean() * 100\n",
    "\n",
    "print(\"Persentase keterlambatan berdasarkan kategori produk:\")\n",
    "print(late_by_category.map('{:.2f}%'.format))"
   ]
  },
  {
   "cell_type": "code",
   "execution_count": 81,
   "metadata": {},
   "outputs": [
    {
     "data": {
      "text/plain": [
       "Category\n",
       "American          100.0\n",
       "Congress          100.0\n",
       "PM                100.0\n",
       "TV                100.0\n",
       "according         100.0\n",
       "account           100.0\n",
       "across            100.0\n",
       "act               100.0\n",
       "administration    100.0\n",
       "after             100.0\n",
       "Name: Late, dtype: float64"
      ]
     },
     "execution_count": 81,
     "metadata": {},
     "output_type": "execute_result"
    }
   ],
   "source": [
    "top_10_highest = late_by_category.nlargest(10)\n",
    "top_10_highest"
   ]
  },
  {
   "cell_type": "code",
   "execution_count": 82,
   "metadata": {},
   "outputs": [
    {
     "data": {
      "image/png": "[encoded data removed]",
      "text/plain": [
       "<Figure size 1000x600 with 1 Axes>"
      ]
     },
     "metadata": {},
     "output_type": "display_data"
    }
   ],
   "source": [
    "plt.figure(figsize=(10, 6))\n",
    "plt.bar(top_10_highest.index, top_10_highest.values, color='red')  \n",
    "plt.xlabel('Kategori Produk')\n",
    "plt.ylabel('Persentase Keterlambatan (%)')\n",
    "plt.title('Top 10 Produk dengan Persentase Keterlambatan Tertinggi')\n",
    "plt.show()"
   ]
  },
  {
   "cell_type": "markdown",
   "metadata": {},
   "source": [
    "Produk yang mengalami tingkat keterlambatan yang tinggi mungkin mengindikasikan adanya masalah dalam proses logistik, rantai pasokan, atau manajemen pengiriman. Penyebabnya bisa bermacam-macam, mulai dari masalah dalam rantai pasokan hingga kendala dalam logistik. Untuk mengatasinya, strategi yang efektif meliputi analisis akar masalah, peningkatan kerjasama dengan pemasok, dan optimalisasi sistem logistik. Dengan mengambil tindakan yang tepat, bisnis dapat memperbaiki efisiensi pengiriman, meningkatkan kepuasan pelanggan, dan memperbaiki reputasi."
   ]
  }
 ],
 "metadata": {
  "kernelspec": {
   "display_name": "Python 3",
   "language": "python",
   "name": "python3"
  },
  "language_info": {
   "codemirror_mode": {
    "name": "ipython",
    "version": 3
   },
   "file_extension": ".py",
   "mimetype": "text/x-python",
   "name": "python",
   "nbconvert_exporter": "python",
   "pygments_lexer": "ipython3",
   "version": "3.10.11"
  }
 },
 "nbformat": 4,
 "nbformat_minor": 2
}
